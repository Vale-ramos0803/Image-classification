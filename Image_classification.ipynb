{
  "nbformat": 4,
  "nbformat_minor": 0,
  "metadata": {
    "colab": {
      "provenance": []
    },
    "kernelspec": {
      "name": "python3",
      "display_name": "Python 3"
    },
    "language_info": {
      "name": "python"
    }
  },
  "cells": [
    {
      "cell_type": "markdown",
      "source": [
        "#image classification dataset"
      ],
      "metadata": {
        "id": "B-ONZ7fjpEo5"
      }
    },
    {
      "cell_type": "code",
      "source": [
        "import numpy as np\n",
        "import tensorflow as tf\n",
        "from tensorflow import keras\n",
        "from tensorflow.keras import layers\n",
        "from tensorflow.keras.datasets import fashion_mnist\n",
        "from sklearn.metrics import classification_report, confusion_matrix\n",
        "\n",
        "# 1. Load & preprocess\n",
        "(train_images, train_labels), (test_images, test_labels) = fashion_mnist.load_data()\n",
        "\n",
        "train_images = train_images / 255.0\n",
        "test_images  = test_images  / 255.0\n",
        "\n",
        "train_images = train_images.reshape((60000, 28 * 28))\n",
        "test_images  = test_images.reshape((10000, 28 * 28))\n",
        "\n",
        "# 2. Build the model\n",
        "model = keras.Sequential([\n",
        "    layers.Dense(128, activation='relu', input_shape=(784,)),\n",
        "    layers.Dense(10, activation='softmax')\n",
        "])\n",
        "\n",
        "model.compile(\n",
        "    optimizer='adam',\n",
        "    loss='sparse_categorical_crossentropy',\n",
        "    metrics=['accuracy']\n",
        ")\n",
        "\n",
        "# 3. Train for 5 epochs\n",
        "model.fit(train_images, train_labels, epochs=5, batch_size=32, verbose=2)\n",
        "\n",
        "# 4. Evaluate on test\n",
        "test_loss, test_acc = model.evaluate(test_images, test_labels, verbose=0)\n",
        "print(f\"\\nTest Loss: {test_loss:.4f}   Test Accuracy: {test_acc:.4f}\\n\")\n",
        "\n",
        "# 5. Predict on test set\n",
        "y_pred_probs = model.predict(test_images)\n",
        "y_pred       = np.argmax(y_pred_probs, axis=1)\n",
        "\n",
        "# 6. Classification report\n",
        "class_names = [\n",
        "    \"T-shirt/top\", \"Trouser\", \"Pullover\", \"Dress\", \"Coat\",\n",
        "    \"Sandal\", \"Shirt\", \"Sneaker\", \"Bag\", \"Ankle boot\"\n",
        "]\n",
        "\n",
        "print(\"Classification Report on Fashion-MNIST Test Set:\\n\")\n",
        "print(\n",
        "    classification_report(\n",
        "        test_labels,\n",
        "        y_pred,\n",
        "        target_names=class_names\n",
        "    )\n",
        ")\n"
      ],
      "metadata": {
        "colab": {
          "base_uri": "https://localhost:8080/"
        },
        "id": "ZTdAb6_Tph2A",
        "outputId": "bc6b2173-d7e5-4bed-ccc7-cdcd24d9ae50"
      },
      "execution_count": 28,
      "outputs": [
        {
          "output_type": "stream",
          "name": "stderr",
          "text": [
            "/usr/local/lib/python3.11/dist-packages/keras/src/layers/core/dense.py:87: UserWarning: Do not pass an `input_shape`/`input_dim` argument to a layer. When using Sequential models, prefer using an `Input(shape)` object as the first layer in the model instead.\n",
            "  super().__init__(activity_regularizer=activity_regularizer, **kwargs)\n"
          ]
        },
        {
          "output_type": "stream",
          "name": "stdout",
          "text": [
            "Epoch 1/5\n",
            "1875/1875 - 8s - 4ms/step - accuracy: 0.8267 - loss: 0.4947\n",
            "Epoch 2/5\n",
            "1875/1875 - 6s - 3ms/step - accuracy: 0.8659 - loss: 0.3714\n",
            "Epoch 3/5\n",
            "1875/1875 - 7s - 4ms/step - accuracy: 0.8769 - loss: 0.3352\n",
            "Epoch 4/5\n",
            "1875/1875 - 7s - 4ms/step - accuracy: 0.8874 - loss: 0.3116\n",
            "Epoch 5/5\n",
            "1875/1875 - 9s - 5ms/step - accuracy: 0.8940 - loss: 0.2916\n",
            "\n",
            "Test Loss: 0.3678   Test Accuracy: 0.8712\n",
            "\n",
            "\u001b[1m313/313\u001b[0m \u001b[32m━━━━━━━━━━━━━━━━━━━━\u001b[0m\u001b[37m\u001b[0m \u001b[1m1s\u001b[0m 2ms/step\n",
            "Classification Report on Fashion-MNIST Test Set:\n",
            "\n",
            "              precision    recall  f1-score   support\n",
            "\n",
            " T-shirt/top       0.80      0.86      0.83      1000\n",
            "     Trouser       0.99      0.97      0.98      1000\n",
            "    Pullover       0.75      0.81      0.78      1000\n",
            "       Dress       0.84      0.90      0.87      1000\n",
            "        Coat       0.73      0.84      0.78      1000\n",
            "      Sandal       0.98      0.95      0.97      1000\n",
            "       Shirt       0.77      0.53      0.63      1000\n",
            "     Sneaker       0.94      0.94      0.94      1000\n",
            "         Bag       0.98      0.96      0.97      1000\n",
            "  Ankle boot       0.93      0.97      0.95      1000\n",
            "\n",
            "    accuracy                           0.87     10000\n",
            "   macro avg       0.87      0.87      0.87     10000\n",
            "weighted avg       0.87      0.87      0.87     10000\n",
            "\n"
          ]
        }
      ]
    },
    {
      "cell_type": "code",
      "source": [
        "from google.colab import files\n",
        "\n",
        "files.download('Image_classification.pkl')"
      ],
      "metadata": {
        "colab": {
          "base_uri": "https://localhost:8080/",
          "height": 17
        },
        "id": "I1QqMqJa0pfi",
        "outputId": "4cfdcfb1-d8f2-4fb4-ca53-e19b6a62a0a7"
      },
      "execution_count": 30,
      "outputs": [
        {
          "output_type": "display_data",
          "data": {
            "text/plain": [
              "<IPython.core.display.Javascript object>"
            ],
            "application/javascript": [
              "\n",
              "    async function download(id, filename, size) {\n",
              "      if (!google.colab.kernel.accessAllowed) {\n",
              "        return;\n",
              "      }\n",
              "      const div = document.createElement('div');\n",
              "      const label = document.createElement('label');\n",
              "      label.textContent = `Downloading \"${filename}\": `;\n",
              "      div.appendChild(label);\n",
              "      const progress = document.createElement('progress');\n",
              "      progress.max = size;\n",
              "      div.appendChild(progress);\n",
              "      document.body.appendChild(div);\n",
              "\n",
              "      const buffers = [];\n",
              "      let downloaded = 0;\n",
              "\n",
              "      const channel = await google.colab.kernel.comms.open(id);\n",
              "      // Send a message to notify the kernel that we're ready.\n",
              "      channel.send({})\n",
              "\n",
              "      for await (const message of channel.messages) {\n",
              "        // Send a message to notify the kernel that we're ready.\n",
              "        channel.send({})\n",
              "        if (message.buffers) {\n",
              "          for (const buffer of message.buffers) {\n",
              "            buffers.push(buffer);\n",
              "            downloaded += buffer.byteLength;\n",
              "            progress.value = downloaded;\n",
              "          }\n",
              "        }\n",
              "      }\n",
              "      const blob = new Blob(buffers, {type: 'application/binary'});\n",
              "      const a = document.createElement('a');\n",
              "      a.href = window.URL.createObjectURL(blob);\n",
              "      a.download = filename;\n",
              "      div.appendChild(a);\n",
              "      a.click();\n",
              "      div.remove();\n",
              "    }\n",
              "  "
            ]
          },
          "metadata": {}
        },
        {
          "output_type": "display_data",
          "data": {
            "text/plain": [
              "<IPython.core.display.Javascript object>"
            ],
            "application/javascript": [
              "download(\"download_26c7fa74-e3f4-47fc-8869-a67df8d8e774\", \"Image_classification.pkl\", 0)"
            ]
          },
          "metadata": {}
        }
      ]
    }
  ]
}